{
 "cells": [
  {
   "cell_type": "code",
   "execution_count": 1,
   "id": "cd772c1e-e5dd-4220-943c-07543eac24bb",
   "metadata": {},
   "outputs": [],
   "source": [
    "import pandas as pd \n",
    "import numpy as np\n",
    "from sklearn.preprocessing import OneHotEncoder, StandardScaler\n",
    "from sklearn.impute import SimpleImputer\n",
    "from sklearn.pipeline import Pipeline\n",
    "from sklearn.compose import ColumnTransformer"
   ]
  },
  {
   "cell_type": "code",
   "execution_count": 3,
   "id": "2ba2ecb9-ec01-4105-84f5-751e4e6713fc",
   "metadata": {},
   "outputs": [],
   "source": [
    "train_data = pd.read_csv('training_set_features.csv')\n",
    "test_data = pd.read_csv('test_set_features.csv')\n",
    "train_labels_data = pd.read_csv('training_set_labels.csv')\n"
   ]
  },
  {
   "cell_type": "code",
   "execution_count": 4,
   "id": "cd876204-2f93-48d1-b84b-61011cf874d4",
   "metadata": {},
   "outputs": [
    {
     "name": "stdout",
     "output_type": "stream",
     "text": [
      "True\n",
      "(26707, 35) (26708, 35) (26707, 2)\n"
     ]
    }
   ],
   "source": [
    "train_data.set_index('respondent_id', inplace=True)\n",
    "test_data.set_index('respondent_id', inplace=True)\n",
    "train_labels_data.set_index('respondent_id', inplace=True)\n",
    "\n",
    "print(train_data.index.equals(train_labels_data.index))  \n",
    "print(train_data.shape, test_data.shape, train_labels_data.shape)"
   ]
  },
  {
   "cell_type": "code",
   "execution_count": 5,
   "id": "69b1a654-67f5-47ac-a673-c41aea94009c",
   "metadata": {},
   "outputs": [],
   "source": [
    "categorical_cols = [\n",
    "    'age_group', 'education', 'race', 'sex', 'income_poverty', 'marital_status',\n",
    "    'rent_or_own', 'employment_status', 'hhs_geo_region', 'census_msa',\n",
    "    'employment_industry', 'employment_occupation'\n",
    "]\n",
    "\n",
    "numerical_cols = [\n",
    "    'xyz_concern', 'xyz_knowledge', 'behavioral_antiviral_meds', 'behavioral_avoidance','behavioral_face_mask', \n",
    "    'behavioral_wash_hands', 'behavioral_large_gatherings','behavioral_outside_home', 'behavioral_touch_face', \n",
    "    'doctor_recc_xyz','doctor_recc_seasonal', 'chronic_med_condition', 'child_under_6_months',\n",
    "    'health_worker', 'health_insurance', 'opinion_xyz_vacc_effective', 'opinion_xyz_risk',\n",
    "    'opinion_xyz_sick_from_vacc', 'opinion_seas_vacc_effective', 'opinion_seas_risk',\n",
    "    'opinion_seas_sick_from_vacc', 'household_adults', 'household_children'\n",
    "]\n",
    "\n",
    "\n",
    "\n",
    "categorical_pipeline = Pipeline(steps=[\n",
    "    ('imputer', SimpleImputer(strategy='most_frequent')),  # Impute missing values with the most frequent value for categorical features\n",
    "    ('onehot', OneHotEncoder(handle_unknown='ignore', sparse_output=False))  # One-hot encode categorical features\n",
    "])\n",
    "\n",
    "numerical_pipeline = Pipeline(steps=[\n",
    "    ('imputer', SimpleImputer(strategy='mean')),  # Impute missing values with mean for numerical features\n",
    "    ('scaler', StandardScaler())  # Standardize numerical features\n",
    "])\n",
    "\n",
    "\n",
    "preprocessor = ColumnTransformer(\n",
    "    transformers=[\n",
    "        ('num', numerical_pipeline, numerical_cols),\n",
    "        ('cat', categorical_pipeline, categorical_cols)\n",
    "    ],\n",
    "    remainder='passthrough'  # Ensure that no columns are dropped\n",
    ")\n",
    "\n",
    "X_train = train_data\n",
    "y_train = train_labels_data\n",
    "X_test = test_data\n",
    "\n",
    "X_train_preprocessed = preprocessor.fit_transform(X_train)\n",
    "X_test_preprocessed = preprocessor.transform(X_test)\n"
   ]
  },
  {
   "cell_type": "code",
   "execution_count": 6,
   "id": "48762093-f190-4baf-9667-210a9643e490",
   "metadata": {},
   "outputs": [
    {
     "name": "stdout",
     "output_type": "stream",
     "text": [
      "(26707, 105) (26708, 105)\n",
      "(26707, 2)\n"
     ]
    }
   ],
   "source": [
    "print(X_train_preprocessed.shape, X_test_preprocessed.shape)\n",
    "print(y_train.shape)"
   ]
  },
  {
   "cell_type": "code",
   "execution_count": 8,
   "id": "51c38d57-1564-4fa8-9281-a465e7552e40",
   "metadata": {},
   "outputs": [],
   "source": [
    "from sklearn.multioutput import MultiOutputClassifier\n",
    "from sklearn.ensemble import RandomForestClassifier\n",
    "from sklearn.model_selection import train_test_split\n",
    "from sklearn.metrics import roc_auc_score"
   ]
  },
  {
   "cell_type": "code",
   "execution_count": 9,
   "id": "dbc53b73-d2c3-4ca0-966a-083731c3d1d7",
   "metadata": {},
   "outputs": [
    {
     "name": "stdout",
     "output_type": "stream",
     "text": [
      "(26707, 105) (26707, 2)\n"
     ]
    }
   ],
   "source": [
    "print(X_train_preprocessed.shape, y_train.shape)"
   ]
  },
  {
   "cell_type": "code",
   "execution_count": 10,
   "id": "fc04e3fa-9d37-42ab-85b5-d728a740e4f1",
   "metadata": {},
   "outputs": [
    {
     "name": "stdout",
     "output_type": "stream",
     "text": [
      "(21365, 105) (5342, 105) (21365, 2) (5342, 2)\n"
     ]
    }
   ],
   "source": [
    "X_train_split, X_val_split, y_train_split, y_val_split = train_test_split(X_train_preprocessed, y_train, test_size=0.2, random_state=42)\n",
    "print(X_train_split.shape, X_val_split.shape, y_train_split.shape, y_val_split.shape)"
   ]
  },
  {
   "cell_type": "code",
   "execution_count": 11,
   "id": "c0b42282-6f2e-442f-a6ee-5f3ec6dca196",
   "metadata": {},
   "outputs": [],
   "source": [
    "rf_model = RandomForestClassifier(n_estimators=100, random_state=42)\n",
    "multi_target_model = MultiOutputClassifier(rf_model, n_jobs=-1)\n",
    "multi_target_model.fit(X_train_split, y_train_split)\n",
    "\n",
    "y_val_pred_proba = multi_target_model.predict_proba(X_val_split)\n",
    "y_val_pred_proba = np.array(y_val_pred_proba)[:, :, 1].T\n"
   ]
  },
  {
   "cell_type": "code",
   "execution_count": 12,
   "id": "34b27c79-beeb-44e7-936c-e2bc04430c79",
   "metadata": {},
   "outputs": [
    {
     "name": "stdout",
     "output_type": "stream",
     "text": [
      "ROC AUC value for XYZ Vaccine: 0.8639554916841052\n",
      "ROC AUC  value for Seasonal Vaccine: 0.8570449153459695\n",
      "Mean ROC AUC: 0.8605002035150373\n"
     ]
    }
   ],
   "source": [
    "roc_auc_xyz = roc_auc_score(y_val_split['xyz_vaccine'], y_val_pred_proba[:, 0])\n",
    "roc_auc_seasonal = roc_auc_score(y_val_split['seasonal_vaccine'], y_val_pred_proba[:, 1])\n",
    "mean_roc_auc = (roc_auc_xyz + roc_auc_seasonal) / 2\n",
    "\n",
    "print(f'ROC AUC value for XYZ Vaccine: {roc_auc_xyz}')\n",
    "print(f'ROC AUC  value for Seasonal Vaccine: {roc_auc_seasonal}')\n",
    "print(f'Mean ROC AUC: {mean_roc_auc}')"
   ]
  },
  {
   "cell_type": "code",
   "execution_count": 16,
   "id": "608175f5-597c-4759-a0dd-1a73d9f38070",
   "metadata": {},
   "outputs": [
    {
     "name": "stdout",
     "output_type": "stream",
     "text": [
      "Best parameters: {'estimator__max_depth': None, 'estimator__min_samples_leaf': 2, 'estimator__min_samples_split': 5, 'estimator__n_estimators': 100}\n",
      "Best ROC AUC score from GridSearchCV: 0.8556272517047927\n"
     ]
    }
   ],
   "source": [
    "from sklearn.model_selection import GridSearchCV\n",
    "\n",
    "rf_model = RandomForestClassifier(n_estimators=100, random_state=42, n_jobs=2)\n",
    "multi_target_model = MultiOutputClassifier(rf_model, n_jobs=2)\n",
    "\n",
    "param_grid = {\n",
    "    'estimator__n_estimators': [50, 100],\n",
    "    'estimator__max_depth': [None, 10],\n",
    "    'estimator__min_samples_split': [2, 5],\n",
    "    'estimator__min_samples_leaf': [1, 2]\n",
    "}\n",
    "\n",
    "grid_search = GridSearchCV(multi_target_model, param_grid, cv=3, scoring='roc_auc', n_jobs=2)\n",
    "grid_search.fit(X_train_split, y_train_split)\n",
    "\n",
    "best_params = grid_search.best_params_\n",
    "best_score = grid_search.best_score_\n",
    "\n",
    "print(f'Best parameters: {best_params}')\n",
    "print(f'Best ROC AUC score from GridSearchCV: {best_score}')"
   ]
  },
  {
   "cell_type": "code",
   "execution_count": 17,
   "id": "a373fa31-bcce-42c8-ab45-0159d5726aca",
   "metadata": {},
   "outputs": [
    {
     "name": "stdout",
     "output_type": "stream",
     "text": [
      "   respondent_id  xyz_vaccine  seasonal_vaccine\n",
      "0          26707     0.199277          0.394498\n",
      "1          26708     0.040405          0.053210\n",
      "2          26709     0.270790          0.707270\n",
      "3          26710     0.545662          0.893416\n",
      "4          26711     0.258517          0.505339\n"
     ]
    }
   ],
   "source": [
    "best_model = grid_search.best_estimator_\n",
    "y_test_pred_proba = best_model.predict_proba(X_test_preprocessed)\n",
    "\n",
    "y_test_pred_proba = np.array(y_test_pred_proba)[:, :, 1].T\n",
    "\n",
    "submission = pd.DataFrame({\n",
    "    'respondent_id': test_data.index,\n",
    "    'xyz_vaccine': y_test_pred_proba[:, 0],\n",
    "    'seasonal_vaccine': y_test_pred_proba[:, 1]\n",
    "})\n",
    "\n",
    "submission.to_csv('submission.csv', index=False)\n",
    "print(submission.head())"
   ]
  },
  {
   "cell_type": "code",
   "execution_count": null,
   "id": "4ed58437-1ab1-458e-80dd-c2b2d9efb299",
   "metadata": {},
   "outputs": [],
   "source": []
  }
 ],
 "metadata": {
  "kernelspec": {
   "display_name": "Python 3 (ipykernel)",
   "language": "python",
   "name": "python3"
  },
  "language_info": {
   "codemirror_mode": {
    "name": "ipython",
    "version": 3
   },
   "file_extension": ".py",
   "mimetype": "text/x-python",
   "name": "python",
   "nbconvert_exporter": "python",
   "pygments_lexer": "ipython3",
   "version": "3.11.7"
  }
 },
 "nbformat": 4,
 "nbformat_minor": 5
}
